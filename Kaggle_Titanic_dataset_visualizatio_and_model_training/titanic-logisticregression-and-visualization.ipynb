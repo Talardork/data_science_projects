{
 "cells": [
  {
   "cell_type": "markdown",
   "id": "f69417f9",
   "metadata": {
    "papermill": {
     "duration": 0.009859,
     "end_time": "2024-10-31T05:10:49.602105",
     "exception": false,
     "start_time": "2024-10-31T05:10:49.592246",
     "status": "completed"
    },
    "tags": []
   },
   "source": [
    "# Importing the required libraries"
   ]
  },
  {
   "cell_type": "code",
   "execution_count": 1,
   "id": "ee4b4c13",
   "metadata": {
    "execution": {
     "iopub.execute_input": "2024-10-31T05:10:49.623797Z",
     "iopub.status.busy": "2024-10-31T05:10:49.622759Z",
     "iopub.status.idle": "2024-10-31T05:10:52.550670Z",
     "shell.execute_reply": "2024-10-31T05:10:52.549604Z"
    },
    "papermill": {
     "duration": 2.941943,
     "end_time": "2024-10-31T05:10:52.553171",
     "exception": false,
     "start_time": "2024-10-31T05:10:49.611228",
     "status": "completed"
    },
    "tags": []
   },
   "outputs": [],
   "source": [
    "import numpy as np\n",
    "import pandas as pd\n",
    "import seaborn as sns\n",
    "import matplotlib.pyplot as plt\n",
    "from sklearn.linear_model import LogisticRegression\n",
    "from sklearn.model_selection import train_test_split\n",
    "from sklearn.metrics import  accuracy_score\n",
    "import warnings\n",
    "warnings.filterwarnings('ignore')"
   ]
  },
  {
   "cell_type": "code",
   "execution_count": 2,
   "id": "06a89558",
   "metadata": {
    "execution": {
     "iopub.execute_input": "2024-10-31T05:10:52.573720Z",
     "iopub.status.busy": "2024-10-31T05:10:52.572641Z",
     "iopub.status.idle": "2024-10-31T05:10:52.595488Z",
     "shell.execute_reply": "2024-10-31T05:10:52.594447Z"
    },
    "papermill": {
     "duration": 0.035577,
     "end_time": "2024-10-31T05:10:52.597992",
     "exception": false,
     "start_time": "2024-10-31T05:10:52.562415",
     "status": "completed"
    },
    "tags": []
   },
   "outputs": [],
   "source": [
    "train_data = pd.read_csv(\"/kaggle/input/titanic/train.csv\")"
   ]
  },
  {
   "cell_type": "code",
   "execution_count": 3,
   "id": "4b1d3cd1",
   "metadata": {
    "execution": {
     "iopub.execute_input": "2024-10-31T05:10:52.617964Z",
     "iopub.status.busy": "2024-10-31T05:10:52.617429Z",
     "iopub.status.idle": "2024-10-31T05:10:52.643394Z",
     "shell.execute_reply": "2024-10-31T05:10:52.642311Z"
    },
    "papermill": {
     "duration": 0.038884,
     "end_time": "2024-10-31T05:10:52.645997",
     "exception": false,
     "start_time": "2024-10-31T05:10:52.607113",
     "status": "completed"
    },
    "tags": []
   },
   "outputs": [
    {
     "data": {
      "text/html": [
       "<div>\n",
       "<style scoped>\n",
       "    .dataframe tbody tr th:only-of-type {\n",
       "        vertical-align: middle;\n",
       "    }\n",
       "\n",
       "    .dataframe tbody tr th {\n",
       "        vertical-align: top;\n",
       "    }\n",
       "\n",
       "    .dataframe thead th {\n",
       "        text-align: right;\n",
       "    }\n",
       "</style>\n",
       "<table border=\"1\" class=\"dataframe\">\n",
       "  <thead>\n",
       "    <tr style=\"text-align: right;\">\n",
       "      <th></th>\n",
       "      <th>PassengerId</th>\n",
       "      <th>Survived</th>\n",
       "      <th>Pclass</th>\n",
       "      <th>Name</th>\n",
       "      <th>Sex</th>\n",
       "      <th>Age</th>\n",
       "      <th>SibSp</th>\n",
       "      <th>Parch</th>\n",
       "      <th>Ticket</th>\n",
       "      <th>Fare</th>\n",
       "      <th>Cabin</th>\n",
       "      <th>Embarked</th>\n",
       "    </tr>\n",
       "  </thead>\n",
       "  <tbody>\n",
       "    <tr>\n",
       "      <th>0</th>\n",
       "      <td>1</td>\n",
       "      <td>0</td>\n",
       "      <td>3</td>\n",
       "      <td>Braund, Mr. Owen Harris</td>\n",
       "      <td>male</td>\n",
       "      <td>22.0</td>\n",
       "      <td>1</td>\n",
       "      <td>0</td>\n",
       "      <td>A/5 21171</td>\n",
       "      <td>7.2500</td>\n",
       "      <td>NaN</td>\n",
       "      <td>S</td>\n",
       "    </tr>\n",
       "    <tr>\n",
       "      <th>1</th>\n",
       "      <td>2</td>\n",
       "      <td>1</td>\n",
       "      <td>1</td>\n",
       "      <td>Cumings, Mrs. John Bradley (Florence Briggs Th...</td>\n",
       "      <td>female</td>\n",
       "      <td>38.0</td>\n",
       "      <td>1</td>\n",
       "      <td>0</td>\n",
       "      <td>PC 17599</td>\n",
       "      <td>71.2833</td>\n",
       "      <td>C85</td>\n",
       "      <td>C</td>\n",
       "    </tr>\n",
       "    <tr>\n",
       "      <th>2</th>\n",
       "      <td>3</td>\n",
       "      <td>1</td>\n",
       "      <td>3</td>\n",
       "      <td>Heikkinen, Miss. Laina</td>\n",
       "      <td>female</td>\n",
       "      <td>26.0</td>\n",
       "      <td>0</td>\n",
       "      <td>0</td>\n",
       "      <td>STON/O2. 3101282</td>\n",
       "      <td>7.9250</td>\n",
       "      <td>NaN</td>\n",
       "      <td>S</td>\n",
       "    </tr>\n",
       "    <tr>\n",
       "      <th>3</th>\n",
       "      <td>4</td>\n",
       "      <td>1</td>\n",
       "      <td>1</td>\n",
       "      <td>Futrelle, Mrs. Jacques Heath (Lily May Peel)</td>\n",
       "      <td>female</td>\n",
       "      <td>35.0</td>\n",
       "      <td>1</td>\n",
       "      <td>0</td>\n",
       "      <td>113803</td>\n",
       "      <td>53.1000</td>\n",
       "      <td>C123</td>\n",
       "      <td>S</td>\n",
       "    </tr>\n",
       "    <tr>\n",
       "      <th>4</th>\n",
       "      <td>5</td>\n",
       "      <td>0</td>\n",
       "      <td>3</td>\n",
       "      <td>Allen, Mr. William Henry</td>\n",
       "      <td>male</td>\n",
       "      <td>35.0</td>\n",
       "      <td>0</td>\n",
       "      <td>0</td>\n",
       "      <td>373450</td>\n",
       "      <td>8.0500</td>\n",
       "      <td>NaN</td>\n",
       "      <td>S</td>\n",
       "    </tr>\n",
       "  </tbody>\n",
       "</table>\n",
       "</div>"
      ],
      "text/plain": [
       "   PassengerId  Survived  Pclass  \\\n",
       "0            1         0       3   \n",
       "1            2         1       1   \n",
       "2            3         1       3   \n",
       "3            4         1       1   \n",
       "4            5         0       3   \n",
       "\n",
       "                                                Name     Sex   Age  SibSp  \\\n",
       "0                            Braund, Mr. Owen Harris    male  22.0      1   \n",
       "1  Cumings, Mrs. John Bradley (Florence Briggs Th...  female  38.0      1   \n",
       "2                             Heikkinen, Miss. Laina  female  26.0      0   \n",
       "3       Futrelle, Mrs. Jacques Heath (Lily May Peel)  female  35.0      1   \n",
       "4                           Allen, Mr. William Henry    male  35.0      0   \n",
       "\n",
       "   Parch            Ticket     Fare Cabin Embarked  \n",
       "0      0         A/5 21171   7.2500   NaN        S  \n",
       "1      0          PC 17599  71.2833   C85        C  \n",
       "2      0  STON/O2. 3101282   7.9250   NaN        S  \n",
       "3      0            113803  53.1000  C123        S  \n",
       "4      0            373450   8.0500   NaN        S  "
      ]
     },
     "execution_count": 3,
     "metadata": {},
     "output_type": "execute_result"
    }
   ],
   "source": [
    "train_data.head()"
   ]
  },
  {
   "cell_type": "markdown",
   "id": "b91f118c",
   "metadata": {
    "papermill": {
     "duration": 0.009255,
     "end_time": "2024-10-31T05:10:52.664709",
     "exception": false,
     "start_time": "2024-10-31T05:10:52.655454",
     "status": "completed"
    },
    "tags": []
   },
   "source": [
    "as required by the challenge, our model should be based on features like gender and class."
   ]
  },
  {
   "cell_type": "code",
   "execution_count": 4,
   "id": "7325a53b",
   "metadata": {
    "execution": {
     "iopub.execute_input": "2024-10-31T05:10:52.685967Z",
     "iopub.status.busy": "2024-10-31T05:10:52.684965Z",
     "iopub.status.idle": "2024-10-31T05:10:52.713926Z",
     "shell.execute_reply": "2024-10-31T05:10:52.712732Z"
    },
    "papermill": {
     "duration": 0.042103,
     "end_time": "2024-10-31T05:10:52.716349",
     "exception": false,
     "start_time": "2024-10-31T05:10:52.674246",
     "status": "completed"
    },
    "tags": []
   },
   "outputs": [
    {
     "name": "stdout",
     "output_type": "stream",
     "text": [
      "<class 'pandas.core.frame.DataFrame'>\n",
      "RangeIndex: 891 entries, 0 to 890\n",
      "Data columns (total 12 columns):\n",
      " #   Column       Non-Null Count  Dtype  \n",
      "---  ------       --------------  -----  \n",
      " 0   PassengerId  891 non-null    int64  \n",
      " 1   Survived     891 non-null    int64  \n",
      " 2   Pclass       891 non-null    int64  \n",
      " 3   Name         891 non-null    object \n",
      " 4   Sex          891 non-null    object \n",
      " 5   Age          714 non-null    float64\n",
      " 6   SibSp        891 non-null    int64  \n",
      " 7   Parch        891 non-null    int64  \n",
      " 8   Ticket       891 non-null    object \n",
      " 9   Fare         891 non-null    float64\n",
      " 10  Cabin        204 non-null    object \n",
      " 11  Embarked     889 non-null    object \n",
      "dtypes: float64(2), int64(5), object(5)\n",
      "memory usage: 83.7+ KB\n"
     ]
    }
   ],
   "source": [
    "train_data.info()"
   ]
  },
  {
   "cell_type": "markdown",
   "id": "33249f4b",
   "metadata": {
    "papermill": {
     "duration": 0.009392,
     "end_time": "2024-10-31T05:10:52.735347",
     "exception": false,
     "start_time": "2024-10-31T05:10:52.725955",
     "status": "completed"
    },
    "tags": []
   },
   "source": [
    "There are 891 entries and we can see that 3 columns have some missing values"
   ]
  },
  {
   "cell_type": "code",
   "execution_count": 5,
   "id": "3286f550",
   "metadata": {
    "execution": {
     "iopub.execute_input": "2024-10-31T05:10:52.757570Z",
     "iopub.status.busy": "2024-10-31T05:10:52.756750Z",
     "iopub.status.idle": "2024-10-31T05:10:52.765035Z",
     "shell.execute_reply": "2024-10-31T05:10:52.764021Z"
    },
    "papermill": {
     "duration": 0.021756,
     "end_time": "2024-10-31T05:10:52.767155",
     "exception": false,
     "start_time": "2024-10-31T05:10:52.745399",
     "status": "completed"
    },
    "tags": []
   },
   "outputs": [
    {
     "data": {
      "text/plain": [
       "PassengerId      0\n",
       "Survived         0\n",
       "Pclass           0\n",
       "Name             0\n",
       "Sex              0\n",
       "Age            177\n",
       "SibSp            0\n",
       "Parch            0\n",
       "Ticket           0\n",
       "Fare             0\n",
       "Cabin          687\n",
       "Embarked         2\n",
       "dtype: int64"
      ]
     },
     "execution_count": 5,
     "metadata": {},
     "output_type": "execute_result"
    }
   ],
   "source": [
    "train_data.isnull().sum()"
   ]
  },
  {
   "cell_type": "markdown",
   "id": "6a99abe2",
   "metadata": {
    "papermill": {
     "duration": 0.00928,
     "end_time": "2024-10-31T05:10:52.785806",
     "exception": false,
     "start_time": "2024-10-31T05:10:52.776526",
     "status": "completed"
    },
    "tags": []
   },
   "source": [
    "# Handling missing values"
   ]
  },
  {
   "cell_type": "code",
   "execution_count": 6,
   "id": "4ecc7f61",
   "metadata": {
    "execution": {
     "iopub.execute_input": "2024-10-31T05:10:52.806827Z",
     "iopub.status.busy": "2024-10-31T05:10:52.805972Z",
     "iopub.status.idle": "2024-10-31T05:10:52.815030Z",
     "shell.execute_reply": "2024-10-31T05:10:52.813921Z"
    },
    "papermill": {
     "duration": 0.022087,
     "end_time": "2024-10-31T05:10:52.817234",
     "exception": false,
     "start_time": "2024-10-31T05:10:52.795147",
     "status": "completed"
    },
    "tags": []
   },
   "outputs": [],
   "source": [
    "# since feature 'cabin' has most null values so we will drop the column\n",
    "train_data.drop(columns = 'Cabin', axis = 1, inplace = True)"
   ]
  },
  {
   "cell_type": "code",
   "execution_count": 7,
   "id": "9d68c67d",
   "metadata": {
    "execution": {
     "iopub.execute_input": "2024-10-31T05:10:52.838887Z",
     "iopub.status.busy": "2024-10-31T05:10:52.838072Z",
     "iopub.status.idle": "2024-10-31T05:10:52.844150Z",
     "shell.execute_reply": "2024-10-31T05:10:52.843130Z"
    },
    "papermill": {
     "duration": 0.019447,
     "end_time": "2024-10-31T05:10:52.846286",
     "exception": false,
     "start_time": "2024-10-31T05:10:52.826839",
     "status": "completed"
    },
    "tags": []
   },
   "outputs": [],
   "source": [
    "# null values for feature 'age', we will fill it with its mean.\n",
    "age_mean = train_data['Age'].mean()\n",
    "train_data['Age'].fillna(age_mean, inplace = True)"
   ]
  },
  {
   "cell_type": "code",
   "execution_count": 8,
   "id": "cdff6694",
   "metadata": {
    "execution": {
     "iopub.execute_input": "2024-10-31T05:10:52.867204Z",
     "iopub.status.busy": "2024-10-31T05:10:52.866521Z",
     "iopub.status.idle": "2024-10-31T05:10:52.872561Z",
     "shell.execute_reply": "2024-10-31T05:10:52.871594Z"
    },
    "papermill": {
     "duration": 0.019353,
     "end_time": "2024-10-31T05:10:52.875162",
     "exception": false,
     "start_time": "2024-10-31T05:10:52.855809",
     "status": "completed"
    },
    "tags": []
   },
   "outputs": [
    {
     "name": "stdout",
     "output_type": "stream",
     "text": [
      "S\n"
     ]
    }
   ],
   "source": [
    "# embarkation means from where the passenger boarded the ship\n",
    "# we can fill the null values with mode value\n",
    "# The mode is the value that appears most frequently in a data set.\n",
    "embarked_mode = train_data['Embarked'].mode()[0]\n",
    "print(embarked_mode)"
   ]
  },
  {
   "cell_type": "code",
   "execution_count": 9,
   "id": "00da9494",
   "metadata": {
    "execution": {
     "iopub.execute_input": "2024-10-31T05:10:52.896361Z",
     "iopub.status.busy": "2024-10-31T05:10:52.895616Z",
     "iopub.status.idle": "2024-10-31T05:10:52.901388Z",
     "shell.execute_reply": "2024-10-31T05:10:52.900329Z"
    },
    "papermill": {
     "duration": 0.018795,
     "end_time": "2024-10-31T05:10:52.903620",
     "exception": false,
     "start_time": "2024-10-31T05:10:52.884825",
     "status": "completed"
    },
    "tags": []
   },
   "outputs": [],
   "source": [
    "train_data['Embarked'].fillna(embarked_mode, inplace = True)"
   ]
  },
  {
   "cell_type": "code",
   "execution_count": 10,
   "id": "58cbe8f3",
   "metadata": {
    "execution": {
     "iopub.execute_input": "2024-10-31T05:10:52.925445Z",
     "iopub.status.busy": "2024-10-31T05:10:52.924134Z",
     "iopub.status.idle": "2024-10-31T05:10:52.940162Z",
     "shell.execute_reply": "2024-10-31T05:10:52.939123Z"
    },
    "papermill": {
     "duration": 0.029154,
     "end_time": "2024-10-31T05:10:52.942375",
     "exception": false,
     "start_time": "2024-10-31T05:10:52.913221",
     "status": "completed"
    },
    "tags": []
   },
   "outputs": [
    {
     "data": {
      "text/html": [
       "<div>\n",
       "<style scoped>\n",
       "    .dataframe tbody tr th:only-of-type {\n",
       "        vertical-align: middle;\n",
       "    }\n",
       "\n",
       "    .dataframe tbody tr th {\n",
       "        vertical-align: top;\n",
       "    }\n",
       "\n",
       "    .dataframe thead th {\n",
       "        text-align: right;\n",
       "    }\n",
       "</style>\n",
       "<table border=\"1\" class=\"dataframe\">\n",
       "  <thead>\n",
       "    <tr style=\"text-align: right;\">\n",
       "      <th></th>\n",
       "      <th>PassengerId</th>\n",
       "      <th>Survived</th>\n",
       "      <th>Pclass</th>\n",
       "      <th>Name</th>\n",
       "      <th>Sex</th>\n",
       "      <th>Age</th>\n",
       "      <th>SibSp</th>\n",
       "      <th>Parch</th>\n",
       "      <th>Ticket</th>\n",
       "      <th>Fare</th>\n",
       "      <th>Embarked</th>\n",
       "    </tr>\n",
       "  </thead>\n",
       "  <tbody>\n",
       "    <tr>\n",
       "      <th>0</th>\n",
       "      <td>1</td>\n",
       "      <td>0</td>\n",
       "      <td>3</td>\n",
       "      <td>Braund, Mr. Owen Harris</td>\n",
       "      <td>male</td>\n",
       "      <td>22.0</td>\n",
       "      <td>1</td>\n",
       "      <td>0</td>\n",
       "      <td>A/5 21171</td>\n",
       "      <td>7.2500</td>\n",
       "      <td>S</td>\n",
       "    </tr>\n",
       "    <tr>\n",
       "      <th>1</th>\n",
       "      <td>2</td>\n",
       "      <td>1</td>\n",
       "      <td>1</td>\n",
       "      <td>Cumings, Mrs. John Bradley (Florence Briggs Th...</td>\n",
       "      <td>female</td>\n",
       "      <td>38.0</td>\n",
       "      <td>1</td>\n",
       "      <td>0</td>\n",
       "      <td>PC 17599</td>\n",
       "      <td>71.2833</td>\n",
       "      <td>C</td>\n",
       "    </tr>\n",
       "    <tr>\n",
       "      <th>2</th>\n",
       "      <td>3</td>\n",
       "      <td>1</td>\n",
       "      <td>3</td>\n",
       "      <td>Heikkinen, Miss. Laina</td>\n",
       "      <td>female</td>\n",
       "      <td>26.0</td>\n",
       "      <td>0</td>\n",
       "      <td>0</td>\n",
       "      <td>STON/O2. 3101282</td>\n",
       "      <td>7.9250</td>\n",
       "      <td>S</td>\n",
       "    </tr>\n",
       "    <tr>\n",
       "      <th>3</th>\n",
       "      <td>4</td>\n",
       "      <td>1</td>\n",
       "      <td>1</td>\n",
       "      <td>Futrelle, Mrs. Jacques Heath (Lily May Peel)</td>\n",
       "      <td>female</td>\n",
       "      <td>35.0</td>\n",
       "      <td>1</td>\n",
       "      <td>0</td>\n",
       "      <td>113803</td>\n",
       "      <td>53.1000</td>\n",
       "      <td>S</td>\n",
       "    </tr>\n",
       "    <tr>\n",
       "      <th>4</th>\n",
       "      <td>5</td>\n",
       "      <td>0</td>\n",
       "      <td>3</td>\n",
       "      <td>Allen, Mr. William Henry</td>\n",
       "      <td>male</td>\n",
       "      <td>35.0</td>\n",
       "      <td>0</td>\n",
       "      <td>0</td>\n",
       "      <td>373450</td>\n",
       "      <td>8.0500</td>\n",
       "      <td>S</td>\n",
       "    </tr>\n",
       "  </tbody>\n",
       "</table>\n",
       "</div>"
      ],
      "text/plain": [
       "   PassengerId  Survived  Pclass  \\\n",
       "0            1         0       3   \n",
       "1            2         1       1   \n",
       "2            3         1       3   \n",
       "3            4         1       1   \n",
       "4            5         0       3   \n",
       "\n",
       "                                                Name     Sex   Age  SibSp  \\\n",
       "0                            Braund, Mr. Owen Harris    male  22.0      1   \n",
       "1  Cumings, Mrs. John Bradley (Florence Briggs Th...  female  38.0      1   \n",
       "2                             Heikkinen, Miss. Laina  female  26.0      0   \n",
       "3       Futrelle, Mrs. Jacques Heath (Lily May Peel)  female  35.0      1   \n",
       "4                           Allen, Mr. William Henry    male  35.0      0   \n",
       "\n",
       "   Parch            Ticket     Fare Embarked  \n",
       "0      0         A/5 21171   7.2500        S  \n",
       "1      0          PC 17599  71.2833        C  \n",
       "2      0  STON/O2. 3101282   7.9250        S  \n",
       "3      0            113803  53.1000        S  \n",
       "4      0            373450   8.0500        S  "
      ]
     },
     "execution_count": 10,
     "metadata": {},
     "output_type": "execute_result"
    }
   ],
   "source": [
    "train_data.head()"
   ]
  },
  {
   "cell_type": "code",
   "execution_count": 11,
   "id": "d96c4566",
   "metadata": {
    "execution": {
     "iopub.execute_input": "2024-10-31T05:10:52.964276Z",
     "iopub.status.busy": "2024-10-31T05:10:52.963418Z",
     "iopub.status.idle": "2024-10-31T05:10:52.972842Z",
     "shell.execute_reply": "2024-10-31T05:10:52.971621Z"
    },
    "papermill": {
     "duration": 0.022769,
     "end_time": "2024-10-31T05:10:52.975063",
     "exception": false,
     "start_time": "2024-10-31T05:10:52.952294",
     "status": "completed"
    },
    "tags": []
   },
   "outputs": [
    {
     "data": {
      "text/plain": [
       "PassengerId    0\n",
       "Survived       0\n",
       "Pclass         0\n",
       "Name           0\n",
       "Sex            0\n",
       "Age            0\n",
       "SibSp          0\n",
       "Parch          0\n",
       "Ticket         0\n",
       "Fare           0\n",
       "Embarked       0\n",
       "dtype: int64"
      ]
     },
     "execution_count": 11,
     "metadata": {},
     "output_type": "execute_result"
    }
   ],
   "source": [
    "train_data.isnull().sum()"
   ]
  },
  {
   "cell_type": "markdown",
   "id": "295d5e1e",
   "metadata": {
    "papermill": {
     "duration": 0.009592,
     "end_time": "2024-10-31T05:10:52.994843",
     "exception": false,
     "start_time": "2024-10-31T05:10:52.985251",
     "status": "completed"
    },
    "tags": []
   },
   "source": [
    "**Now all the values are non-Null**"
   ]
  },
  {
   "cell_type": "markdown",
   "id": "b95967bc",
   "metadata": {
    "papermill": {
     "duration": 0.009536,
     "end_time": "2024-10-31T05:10:53.014359",
     "exception": false,
     "start_time": "2024-10-31T05:10:53.004823",
     "status": "completed"
    },
    "tags": []
   },
   "source": [
    "# Visualization of dataset"
   ]
  },
  {
   "cell_type": "markdown",
   "id": "17ca05a4",
   "metadata": {
    "papermill": {
     "duration": 0.009507,
     "end_time": "2024-10-31T05:10:53.033943",
     "exception": false,
     "start_time": "2024-10-31T05:10:53.024436",
     "status": "completed"
    },
    "tags": []
   },
   "source": [
    "### 1. Survival Distribution (Non-Survivors vs. Survivors)"
   ]
  },
  {
   "cell_type": "code",
   "execution_count": 12,
   "id": "2d77df47",
   "metadata": {
    "execution": {
     "iopub.execute_input": "2024-10-31T05:10:53.055691Z",
     "iopub.status.busy": "2024-10-31T05:10:53.054992Z",
     "iopub.status.idle": "2024-10-31T05:10:53.216429Z",
     "shell.execute_reply": "2024-10-31T05:10:53.215285Z"
    },
    "papermill": {
     "duration": 0.175706,
     "end_time": "2024-10-31T05:10:53.219570",
     "exception": false,
     "start_time": "2024-10-31T05:10:53.043864",
     "status": "completed"
    },
    "tags": []
   },
   "outputs": [
    {
     "data": {
      "image/png": "[encoded data removed]",
      "text/plain": [
       "<Figure size 400x400 with 1 Axes>"
      ]
     },
     "metadata": {},
     "output_type": "display_data"
    }
   ],
   "source": [
    "survival_counts = train_data['Survived'].value_counts()\n",
    "plt.figure(figsize=(4, 4))\n",
    "plt.pie(survival_counts, labels=['Non-Survivors', 'Survivors'], autopct='%1.1f%%', startangle=90, colors=['#ff9999','#66b3ff'])\n",
    "plt.title(\"Survival Distribution (Non-Survivors vs. Survivors)\")\n",
    "plt.show()"
   ]
  },
  {
   "cell_type": "markdown",
   "id": "a8db56d2",
   "metadata": {
    "papermill": {
     "duration": 0.009963,
     "end_time": "2024-10-31T05:10:53.240124",
     "exception": false,
     "start_time": "2024-10-31T05:10:53.230161",
     "status": "completed"
    },
    "tags": []
   },
   "source": [
    "### 2. Survival by gender"
   ]
  },
  {
   "cell_type": "code",
   "execution_count": 13,
   "id": "939438e3",
   "metadata": {
    "execution": {
     "iopub.execute_input": "2024-10-31T05:10:53.262604Z",
     "iopub.status.busy": "2024-10-31T05:10:53.262218Z",
     "iopub.status.idle": "2024-10-31T05:10:53.441225Z",
     "shell.execute_reply": "2024-10-31T05:10:53.440174Z"
    },
    "papermill": {
     "duration": 0.193095,
     "end_time": "2024-10-31T05:10:53.443417",
     "exception": false,
     "start_time": "2024-10-31T05:10:53.250322",
     "status": "completed"
    },
    "tags": []
   },
   "outputs": [
    {
     "data": {
      "image/png": "[encoded data removed]",
      "text/plain": [
       "<Figure size 400x300 with 1 Axes>"
      ]
     },
     "metadata": {},
     "output_type": "display_data"
    }
   ],
   "source": [
    "plt.figure(figsize=(4, 3))\n",
    "sns.countplot(data=train_data, x=\"Sex\", hue=\"Survived\")\n",
    "plt.title(\"Survival by Gender\")\n",
    "plt.xlabel(\"Gender\")\n",
    "plt.ylabel(\"Count\")\n",
    "plt.show()\n",
    "\n",
    "# 0 = NO , 1 = Yes"
   ]
  },
  {
   "cell_type": "code",
   "execution_count": 14,
   "id": "a030b436",
   "metadata": {
    "execution": {
     "iopub.execute_input": "2024-10-31T05:10:53.466717Z",
     "iopub.status.busy": "2024-10-31T05:10:53.466300Z",
     "iopub.status.idle": "2024-10-31T05:10:53.474637Z",
     "shell.execute_reply": "2024-10-31T05:10:53.473657Z"
    },
    "papermill": {
     "duration": 0.022534,
     "end_time": "2024-10-31T05:10:53.476763",
     "exception": false,
     "start_time": "2024-10-31T05:10:53.454229",
     "status": "completed"
    },
    "tags": []
   },
   "outputs": [
    {
     "data": {
      "text/plain": [
       "Sex\n",
       "male      577\n",
       "female    314\n",
       "Name: count, dtype: int64"
      ]
     },
     "execution_count": 14,
     "metadata": {},
     "output_type": "execute_result"
    }
   ],
   "source": [
    "train_data['Sex'].value_counts()"
   ]
  },
  {
   "cell_type": "markdown",
   "id": "9e455c72",
   "metadata": {
    "papermill": {
     "duration": 0.010622,
     "end_time": "2024-10-31T05:10:53.498269",
     "exception": false,
     "start_time": "2024-10-31T05:10:53.487647",
     "status": "completed"
    },
    "tags": []
   },
   "source": [
    "### 3. Age Distribution by Survival"
   ]
  },
  {
   "cell_type": "code",
   "execution_count": 15,
   "id": "9e7521e1",
   "metadata": {
    "execution": {
     "iopub.execute_input": "2024-10-31T05:10:53.521918Z",
     "iopub.status.busy": "2024-10-31T05:10:53.521168Z",
     "iopub.status.idle": "2024-10-31T05:10:53.908005Z",
     "shell.execute_reply": "2024-10-31T05:10:53.906940Z"
    },
    "papermill": {
     "duration": 0.401476,
     "end_time": "2024-10-31T05:10:53.910477",
     "exception": false,
     "start_time": "2024-10-31T05:10:53.509001",
     "status": "completed"
    },
    "tags": []
   },
   "outputs": [
    {
     "data": {
      "image/png": "[encoded data removed]",
      "text/plain": [
       "<Figure size 700x400 with 1 Axes>"
      ]
     },
     "metadata": {},
     "output_type": "display_data"
    }
   ],
   "source": [
    "plt.figure(figsize = (7,4))\n",
    "sns.histplot(x = 'Age', bins = 20, hue = \"Survived\", kde=True, data = train_data)\n",
    "plt.title(\"Age Distribution by Survival\")\n",
    "plt.xlabel(\"Age\")\n",
    "plt.ylabel(\"Density\")\n",
    "plt.show()"
   ]
  },
  {
   "cell_type": "markdown",
   "id": "081e3fbf",
   "metadata": {
    "papermill": {
     "duration": 0.01094,
     "end_time": "2024-10-31T05:10:53.932918",
     "exception": false,
     "start_time": "2024-10-31T05:10:53.921978",
     "status": "completed"
    },
    "tags": []
   },
   "source": [
    "### 4. Passenger Class and Survival"
   ]
  },
  {
   "cell_type": "code",
   "execution_count": 16,
   "id": "4b12ce32",
   "metadata": {
    "execution": {
     "iopub.execute_input": "2024-10-31T05:10:53.957545Z",
     "iopub.status.busy": "2024-10-31T05:10:53.956856Z",
     "iopub.status.idle": "2024-10-31T05:10:54.157344Z",
     "shell.execute_reply": "2024-10-31T05:10:54.156276Z"
    },
    "papermill": {
     "duration": 0.215283,
     "end_time": "2024-10-31T05:10:54.159551",
     "exception": false,
     "start_time": "2024-10-31T05:10:53.944268",
     "status": "completed"
    },
    "tags": []
   },
   "outputs": [
    {
     "data": {
      "image/png": "[encoded data removed]",
      "text/plain": [
       "<Figure size 400x300 with 1 Axes>"
      ]
     },
     "metadata": {},
     "output_type": "display_data"
    }
   ],
   "source": [
    "plt.figure(figsize=(4, 3))\n",
    "sns.countplot(data=train_data, x=\"Pclass\", hue=\"Survived\")\n",
    "plt.title(\"Survival by Passenger Class\")\n",
    "plt.xlabel(\"Passenger Class\")\n",
    "plt.ylabel(\"Count\")\n",
    "plt.show()"
   ]
  },
  {
   "cell_type": "markdown",
   "id": "4815104b",
   "metadata": {
    "papermill": {
     "duration": 0.011472,
     "end_time": "2024-10-31T05:10:54.182969",
     "exception": false,
     "start_time": "2024-10-31T05:10:54.171497",
     "status": "completed"
    },
    "tags": []
   },
   "source": [
    "### 5. Fare Distribution by Survival"
   ]
  },
  {
   "cell_type": "code",
   "execution_count": 17,
   "id": "96597bb8",
   "metadata": {
    "execution": {
     "iopub.execute_input": "2024-10-31T05:10:54.208378Z",
     "iopub.status.busy": "2024-10-31T05:10:54.207749Z",
     "iopub.status.idle": "2024-10-31T05:10:54.387557Z",
     "shell.execute_reply": "2024-10-31T05:10:54.386467Z"
    },
    "papermill": {
     "duration": 0.195947,
     "end_time": "2024-10-31T05:10:54.390498",
     "exception": false,
     "start_time": "2024-10-31T05:10:54.194551",
     "status": "completed"
    },
    "tags": []
   },
   "outputs": [
    {
     "data": {
      "image/png": "[encoded data removed]",
      "text/plain": [
       "<Figure size 700x400 with 1 Axes>"
      ]
     },
     "metadata": {},
     "output_type": "display_data"
    }
   ],
   "source": [
    "# 5. Fare Distribution by Survival\n",
    "plt.figure(figsize=(7, 4))\n",
    "sns.boxplot(data=train_data, x=\"Survived\", y=\"Fare\")\n",
    "plt.title(\"Fare Distribution by Survival\")\n",
    "plt.xlabel(\"Survived (0 = No, 1 = Yes)\")\n",
    "plt.ylabel(\"Fare\")\n",
    "plt.show()"
   ]
  },
  {
   "cell_type": "markdown",
   "id": "b20c6904",
   "metadata": {
    "papermill": {
     "duration": 0.011804,
     "end_time": "2024-10-31T05:10:54.415219",
     "exception": false,
     "start_time": "2024-10-31T05:10:54.403415",
     "status": "completed"
    },
    "tags": []
   },
   "source": [
    "# Handling Categorical Values"
   ]
  },
  {
   "cell_type": "code",
   "execution_count": 18,
   "id": "1ceb81b7",
   "metadata": {
    "execution": {
     "iopub.execute_input": "2024-10-31T05:10:54.441834Z",
     "iopub.status.busy": "2024-10-31T05:10:54.440833Z",
     "iopub.status.idle": "2024-10-31T05:10:54.447246Z",
     "shell.execute_reply": "2024-10-31T05:10:54.446266Z"
    },
    "papermill": {
     "duration": 0.022007,
     "end_time": "2024-10-31T05:10:54.449381",
     "exception": false,
     "start_time": "2024-10-31T05:10:54.427374",
     "status": "completed"
    },
    "tags": []
   },
   "outputs": [],
   "source": [
    "# we have 4 Categorical Values - Name, Sex, Ticket, Embarked.\n",
    "# we don't need Name, and Ticket for our prediction model so we will drop it.\n",
    "# PassengerId is also useless\n",
    "\n",
    "train_data.drop(columns = [\"PassengerId\",\"Name\",\"Ticket\"], axis = 1, inplace = True)"
   ]
  },
  {
   "cell_type": "code",
   "execution_count": 19,
   "id": "50041c95",
   "metadata": {
    "execution": {
     "iopub.execute_input": "2024-10-31T05:10:54.475720Z",
     "iopub.status.busy": "2024-10-31T05:10:54.475021Z",
     "iopub.status.idle": "2024-10-31T05:10:54.488116Z",
     "shell.execute_reply": "2024-10-31T05:10:54.487120Z"
    },
    "papermill": {
     "duration": 0.028858,
     "end_time": "2024-10-31T05:10:54.490322",
     "exception": false,
     "start_time": "2024-10-31T05:10:54.461464",
     "status": "completed"
    },
    "tags": []
   },
   "outputs": [
    {
     "data": {
      "text/html": [
       "<div>\n",
       "<style scoped>\n",
       "    .dataframe tbody tr th:only-of-type {\n",
       "        vertical-align: middle;\n",
       "    }\n",
       "\n",
       "    .dataframe tbody tr th {\n",
       "        vertical-align: top;\n",
       "    }\n",
       "\n",
       "    .dataframe thead th {\n",
       "        text-align: right;\n",
       "    }\n",
       "</style>\n",
       "<table border=\"1\" class=\"dataframe\">\n",
       "  <thead>\n",
       "    <tr style=\"text-align: right;\">\n",
       "      <th></th>\n",
       "      <th>Survived</th>\n",
       "      <th>Pclass</th>\n",
       "      <th>Sex</th>\n",
       "      <th>Age</th>\n",
       "      <th>SibSp</th>\n",
       "      <th>Parch</th>\n",
       "      <th>Fare</th>\n",
       "      <th>Embarked</th>\n",
       "    </tr>\n",
       "  </thead>\n",
       "  <tbody>\n",
       "    <tr>\n",
       "      <th>0</th>\n",
       "      <td>0</td>\n",
       "      <td>3</td>\n",
       "      <td>male</td>\n",
       "      <td>22.0</td>\n",
       "      <td>1</td>\n",
       "      <td>0</td>\n",
       "      <td>7.2500</td>\n",
       "      <td>S</td>\n",
       "    </tr>\n",
       "    <tr>\n",
       "      <th>1</th>\n",
       "      <td>1</td>\n",
       "      <td>1</td>\n",
       "      <td>female</td>\n",
       "      <td>38.0</td>\n",
       "      <td>1</td>\n",
       "      <td>0</td>\n",
       "      <td>71.2833</td>\n",
       "      <td>C</td>\n",
       "    </tr>\n",
       "    <tr>\n",
       "      <th>2</th>\n",
       "      <td>1</td>\n",
       "      <td>3</td>\n",
       "      <td>female</td>\n",
       "      <td>26.0</td>\n",
       "      <td>0</td>\n",
       "      <td>0</td>\n",
       "      <td>7.9250</td>\n",
       "      <td>S</td>\n",
       "    </tr>\n",
       "    <tr>\n",
       "      <th>3</th>\n",
       "      <td>1</td>\n",
       "      <td>1</td>\n",
       "      <td>female</td>\n",
       "      <td>35.0</td>\n",
       "      <td>1</td>\n",
       "      <td>0</td>\n",
       "      <td>53.1000</td>\n",
       "      <td>S</td>\n",
       "    </tr>\n",
       "    <tr>\n",
       "      <th>4</th>\n",
       "      <td>0</td>\n",
       "      <td>3</td>\n",
       "      <td>male</td>\n",
       "      <td>35.0</td>\n",
       "      <td>0</td>\n",
       "      <td>0</td>\n",
       "      <td>8.0500</td>\n",
       "      <td>S</td>\n",
       "    </tr>\n",
       "  </tbody>\n",
       "</table>\n",
       "</div>"
      ],
      "text/plain": [
       "   Survived  Pclass     Sex   Age  SibSp  Parch     Fare Embarked\n",
       "0         0       3    male  22.0      1      0   7.2500        S\n",
       "1         1       1  female  38.0      1      0  71.2833        C\n",
       "2         1       3  female  26.0      0      0   7.9250        S\n",
       "3         1       1  female  35.0      1      0  53.1000        S\n",
       "4         0       3    male  35.0      0      0   8.0500        S"
      ]
     },
     "execution_count": 19,
     "metadata": {},
     "output_type": "execute_result"
    }
   ],
   "source": [
    "train_data.head()"
   ]
  },
  {
   "cell_type": "code",
   "execution_count": 20,
   "id": "2fa3151c",
   "metadata": {
    "execution": {
     "iopub.execute_input": "2024-10-31T05:10:54.516743Z",
     "iopub.status.busy": "2024-10-31T05:10:54.516208Z",
     "iopub.status.idle": "2024-10-31T05:10:54.525467Z",
     "shell.execute_reply": "2024-10-31T05:10:54.524366Z"
    },
    "papermill": {
     "duration": 0.025003,
     "end_time": "2024-10-31T05:10:54.527712",
     "exception": false,
     "start_time": "2024-10-31T05:10:54.502709",
     "status": "completed"
    },
    "tags": []
   },
   "outputs": [],
   "source": [
    "train_data.replace({'Sex':{'male':0,'female':1}, 'Embarked':{'S':0,'C':1,'Q':2}}, inplace=True)"
   ]
  },
  {
   "cell_type": "code",
   "execution_count": 21,
   "id": "050e324a",
   "metadata": {
    "execution": {
     "iopub.execute_input": "2024-10-31T05:10:54.554418Z",
     "iopub.status.busy": "2024-10-31T05:10:54.553727Z",
     "iopub.status.idle": "2024-10-31T05:10:54.568258Z",
     "shell.execute_reply": "2024-10-31T05:10:54.567217Z"
    },
    "papermill": {
     "duration": 0.030278,
     "end_time": "2024-10-31T05:10:54.570423",
     "exception": false,
     "start_time": "2024-10-31T05:10:54.540145",
     "status": "completed"
    },
    "tags": []
   },
   "outputs": [
    {
     "data": {
      "text/html": [
       "<div>\n",
       "<style scoped>\n",
       "    .dataframe tbody tr th:only-of-type {\n",
       "        vertical-align: middle;\n",
       "    }\n",
       "\n",
       "    .dataframe tbody tr th {\n",
       "        vertical-align: top;\n",
       "    }\n",
       "\n",
       "    .dataframe thead th {\n",
       "        text-align: right;\n",
       "    }\n",
       "</style>\n",
       "<table border=\"1\" class=\"dataframe\">\n",
       "  <thead>\n",
       "    <tr style=\"text-align: right;\">\n",
       "      <th></th>\n",
       "      <th>Survived</th>\n",
       "      <th>Pclass</th>\n",
       "      <th>Sex</th>\n",
       "      <th>Age</th>\n",
       "      <th>SibSp</th>\n",
       "      <th>Parch</th>\n",
       "      <th>Fare</th>\n",
       "      <th>Embarked</th>\n",
       "    </tr>\n",
       "  </thead>\n",
       "  <tbody>\n",
       "    <tr>\n",
       "      <th>0</th>\n",
       "      <td>0</td>\n",
       "      <td>3</td>\n",
       "      <td>0</td>\n",
       "      <td>22.000000</td>\n",
       "      <td>1</td>\n",
       "      <td>0</td>\n",
       "      <td>7.2500</td>\n",
       "      <td>0</td>\n",
       "    </tr>\n",
       "    <tr>\n",
       "      <th>1</th>\n",
       "      <td>1</td>\n",
       "      <td>1</td>\n",
       "      <td>1</td>\n",
       "      <td>38.000000</td>\n",
       "      <td>1</td>\n",
       "      <td>0</td>\n",
       "      <td>71.2833</td>\n",
       "      <td>1</td>\n",
       "    </tr>\n",
       "    <tr>\n",
       "      <th>2</th>\n",
       "      <td>1</td>\n",
       "      <td>3</td>\n",
       "      <td>1</td>\n",
       "      <td>26.000000</td>\n",
       "      <td>0</td>\n",
       "      <td>0</td>\n",
       "      <td>7.9250</td>\n",
       "      <td>0</td>\n",
       "    </tr>\n",
       "    <tr>\n",
       "      <th>3</th>\n",
       "      <td>1</td>\n",
       "      <td>1</td>\n",
       "      <td>1</td>\n",
       "      <td>35.000000</td>\n",
       "      <td>1</td>\n",
       "      <td>0</td>\n",
       "      <td>53.1000</td>\n",
       "      <td>0</td>\n",
       "    </tr>\n",
       "    <tr>\n",
       "      <th>4</th>\n",
       "      <td>0</td>\n",
       "      <td>3</td>\n",
       "      <td>0</td>\n",
       "      <td>35.000000</td>\n",
       "      <td>0</td>\n",
       "      <td>0</td>\n",
       "      <td>8.0500</td>\n",
       "      <td>0</td>\n",
       "    </tr>\n",
       "    <tr>\n",
       "      <th>...</th>\n",
       "      <td>...</td>\n",
       "      <td>...</td>\n",
       "      <td>...</td>\n",
       "      <td>...</td>\n",
       "      <td>...</td>\n",
       "      <td>...</td>\n",
       "      <td>...</td>\n",
       "      <td>...</td>\n",
       "    </tr>\n",
       "    <tr>\n",
       "      <th>886</th>\n",
       "      <td>0</td>\n",
       "      <td>2</td>\n",
       "      <td>0</td>\n",
       "      <td>27.000000</td>\n",
       "      <td>0</td>\n",
       "      <td>0</td>\n",
       "      <td>13.0000</td>\n",
       "      <td>0</td>\n",
       "    </tr>\n",
       "    <tr>\n",
       "      <th>887</th>\n",
       "      <td>1</td>\n",
       "      <td>1</td>\n",
       "      <td>1</td>\n",
       "      <td>19.000000</td>\n",
       "      <td>0</td>\n",
       "      <td>0</td>\n",
       "      <td>30.0000</td>\n",
       "      <td>0</td>\n",
       "    </tr>\n",
       "    <tr>\n",
       "      <th>888</th>\n",
       "      <td>0</td>\n",
       "      <td>3</td>\n",
       "      <td>1</td>\n",
       "      <td>29.699118</td>\n",
       "      <td>1</td>\n",
       "      <td>2</td>\n",
       "      <td>23.4500</td>\n",
       "      <td>0</td>\n",
       "    </tr>\n",
       "    <tr>\n",
       "      <th>889</th>\n",
       "      <td>1</td>\n",
       "      <td>1</td>\n",
       "      <td>0</td>\n",
       "      <td>26.000000</td>\n",
       "      <td>0</td>\n",
       "      <td>0</td>\n",
       "      <td>30.0000</td>\n",
       "      <td>1</td>\n",
       "    </tr>\n",
       "    <tr>\n",
       "      <th>890</th>\n",
       "      <td>0</td>\n",
       "      <td>3</td>\n",
       "      <td>0</td>\n",
       "      <td>32.000000</td>\n",
       "      <td>0</td>\n",
       "      <td>0</td>\n",
       "      <td>7.7500</td>\n",
       "      <td>2</td>\n",
       "    </tr>\n",
       "  </tbody>\n",
       "</table>\n",
       "<p>891 rows × 8 columns</p>\n",
       "</div>"
      ],
      "text/plain": [
       "     Survived  Pclass  Sex        Age  SibSp  Parch     Fare  Embarked\n",
       "0           0       3    0  22.000000      1      0   7.2500         0\n",
       "1           1       1    1  38.000000      1      0  71.2833         1\n",
       "2           1       3    1  26.000000      0      0   7.9250         0\n",
       "3           1       1    1  35.000000      1      0  53.1000         0\n",
       "4           0       3    0  35.000000      0      0   8.0500         0\n",
       "..        ...     ...  ...        ...    ...    ...      ...       ...\n",
       "886         0       2    0  27.000000      0      0  13.0000         0\n",
       "887         1       1    1  19.000000      0      0  30.0000         0\n",
       "888         0       3    1  29.699118      1      2  23.4500         0\n",
       "889         1       1    0  26.000000      0      0  30.0000         1\n",
       "890         0       3    0  32.000000      0      0   7.7500         2\n",
       "\n",
       "[891 rows x 8 columns]"
      ]
     },
     "execution_count": 21,
     "metadata": {},
     "output_type": "execute_result"
    }
   ],
   "source": [
    "train_data"
   ]
  },
  {
   "cell_type": "markdown",
   "id": "445e711a",
   "metadata": {
    "papermill": {
     "duration": 0.013542,
     "end_time": "2024-10-31T05:10:54.597270",
     "exception": false,
     "start_time": "2024-10-31T05:10:54.583728",
     "status": "completed"
    },
    "tags": []
   },
   "source": [
    "# Splitting the dataset into test and train"
   ]
  },
  {
   "cell_type": "code",
   "execution_count": 22,
   "id": "4a36f3a8",
   "metadata": {
    "execution": {
     "iopub.execute_input": "2024-10-31T05:10:54.625358Z",
     "iopub.status.busy": "2024-10-31T05:10:54.624424Z",
     "iopub.status.idle": "2024-10-31T05:10:54.639551Z",
     "shell.execute_reply": "2024-10-31T05:10:54.638515Z"
    },
    "papermill": {
     "duration": 0.031586,
     "end_time": "2024-10-31T05:10:54.641734",
     "exception": false,
     "start_time": "2024-10-31T05:10:54.610148",
     "status": "completed"
    },
    "tags": []
   },
   "outputs": [
    {
     "data": {
      "text/html": [
       "<div>\n",
       "<style scoped>\n",
       "    .dataframe tbody tr th:only-of-type {\n",
       "        vertical-align: middle;\n",
       "    }\n",
       "\n",
       "    .dataframe tbody tr th {\n",
       "        vertical-align: top;\n",
       "    }\n",
       "\n",
       "    .dataframe thead th {\n",
       "        text-align: right;\n",
       "    }\n",
       "</style>\n",
       "<table border=\"1\" class=\"dataframe\">\n",
       "  <thead>\n",
       "    <tr style=\"text-align: right;\">\n",
       "      <th></th>\n",
       "      <th>Pclass</th>\n",
       "      <th>Sex</th>\n",
       "      <th>Age</th>\n",
       "      <th>SibSp</th>\n",
       "      <th>Parch</th>\n",
       "      <th>Fare</th>\n",
       "      <th>Embarked</th>\n",
       "    </tr>\n",
       "  </thead>\n",
       "  <tbody>\n",
       "    <tr>\n",
       "      <th>0</th>\n",
       "      <td>3</td>\n",
       "      <td>0</td>\n",
       "      <td>22.000000</td>\n",
       "      <td>1</td>\n",
       "      <td>0</td>\n",
       "      <td>7.2500</td>\n",
       "      <td>0</td>\n",
       "    </tr>\n",
       "    <tr>\n",
       "      <th>1</th>\n",
       "      <td>1</td>\n",
       "      <td>1</td>\n",
       "      <td>38.000000</td>\n",
       "      <td>1</td>\n",
       "      <td>0</td>\n",
       "      <td>71.2833</td>\n",
       "      <td>1</td>\n",
       "    </tr>\n",
       "    <tr>\n",
       "      <th>2</th>\n",
       "      <td>3</td>\n",
       "      <td>1</td>\n",
       "      <td>26.000000</td>\n",
       "      <td>0</td>\n",
       "      <td>0</td>\n",
       "      <td>7.9250</td>\n",
       "      <td>0</td>\n",
       "    </tr>\n",
       "    <tr>\n",
       "      <th>3</th>\n",
       "      <td>1</td>\n",
       "      <td>1</td>\n",
       "      <td>35.000000</td>\n",
       "      <td>1</td>\n",
       "      <td>0</td>\n",
       "      <td>53.1000</td>\n",
       "      <td>0</td>\n",
       "    </tr>\n",
       "    <tr>\n",
       "      <th>4</th>\n",
       "      <td>3</td>\n",
       "      <td>0</td>\n",
       "      <td>35.000000</td>\n",
       "      <td>0</td>\n",
       "      <td>0</td>\n",
       "      <td>8.0500</td>\n",
       "      <td>0</td>\n",
       "    </tr>\n",
       "    <tr>\n",
       "      <th>...</th>\n",
       "      <td>...</td>\n",
       "      <td>...</td>\n",
       "      <td>...</td>\n",
       "      <td>...</td>\n",
       "      <td>...</td>\n",
       "      <td>...</td>\n",
       "      <td>...</td>\n",
       "    </tr>\n",
       "    <tr>\n",
       "      <th>886</th>\n",
       "      <td>2</td>\n",
       "      <td>0</td>\n",
       "      <td>27.000000</td>\n",
       "      <td>0</td>\n",
       "      <td>0</td>\n",
       "      <td>13.0000</td>\n",
       "      <td>0</td>\n",
       "    </tr>\n",
       "    <tr>\n",
       "      <th>887</th>\n",
       "      <td>1</td>\n",
       "      <td>1</td>\n",
       "      <td>19.000000</td>\n",
       "      <td>0</td>\n",
       "      <td>0</td>\n",
       "      <td>30.0000</td>\n",
       "      <td>0</td>\n",
       "    </tr>\n",
       "    <tr>\n",
       "      <th>888</th>\n",
       "      <td>3</td>\n",
       "      <td>1</td>\n",
       "      <td>29.699118</td>\n",
       "      <td>1</td>\n",
       "      <td>2</td>\n",
       "      <td>23.4500</td>\n",
       "      <td>0</td>\n",
       "    </tr>\n",
       "    <tr>\n",
       "      <th>889</th>\n",
       "      <td>1</td>\n",
       "      <td>0</td>\n",
       "      <td>26.000000</td>\n",
       "      <td>0</td>\n",
       "      <td>0</td>\n",
       "      <td>30.0000</td>\n",
       "      <td>1</td>\n",
       "    </tr>\n",
       "    <tr>\n",
       "      <th>890</th>\n",
       "      <td>3</td>\n",
       "      <td>0</td>\n",
       "      <td>32.000000</td>\n",
       "      <td>0</td>\n",
       "      <td>0</td>\n",
       "      <td>7.7500</td>\n",
       "      <td>2</td>\n",
       "    </tr>\n",
       "  </tbody>\n",
       "</table>\n",
       "<p>891 rows × 7 columns</p>\n",
       "</div>"
      ],
      "text/plain": [
       "     Pclass  Sex        Age  SibSp  Parch     Fare  Embarked\n",
       "0         3    0  22.000000      1      0   7.2500         0\n",
       "1         1    1  38.000000      1      0  71.2833         1\n",
       "2         3    1  26.000000      0      0   7.9250         0\n",
       "3         1    1  35.000000      1      0  53.1000         0\n",
       "4         3    0  35.000000      0      0   8.0500         0\n",
       "..      ...  ...        ...    ...    ...      ...       ...\n",
       "886       2    0  27.000000      0      0  13.0000         0\n",
       "887       1    1  19.000000      0      0  30.0000         0\n",
       "888       3    1  29.699118      1      2  23.4500         0\n",
       "889       1    0  26.000000      0      0  30.0000         1\n",
       "890       3    0  32.000000      0      0   7.7500         2\n",
       "\n",
       "[891 rows x 7 columns]"
      ]
     },
     "execution_count": 22,
     "metadata": {},
     "output_type": "execute_result"
    }
   ],
   "source": [
    "# we are already provided with test dataset but we will need to preprocess that as well, so let's divide the train dataset instead.\n",
    "\n",
    "X = train_data.drop(columns = ['Survived'], axis = 1)\n",
    "X"
   ]
  },
  {
   "cell_type": "code",
   "execution_count": 23,
   "id": "9e84a7c7",
   "metadata": {
    "execution": {
     "iopub.execute_input": "2024-10-31T05:10:54.669878Z",
     "iopub.status.busy": "2024-10-31T05:10:54.668896Z",
     "iopub.status.idle": "2024-10-31T05:10:54.676963Z",
     "shell.execute_reply": "2024-10-31T05:10:54.675989Z"
    },
    "papermill": {
     "duration": 0.024393,
     "end_time": "2024-10-31T05:10:54.679032",
     "exception": false,
     "start_time": "2024-10-31T05:10:54.654639",
     "status": "completed"
    },
    "tags": []
   },
   "outputs": [
    {
     "data": {
      "text/plain": [
       "0      0\n",
       "1      1\n",
       "2      1\n",
       "3      1\n",
       "4      0\n",
       "      ..\n",
       "886    0\n",
       "887    1\n",
       "888    0\n",
       "889    1\n",
       "890    0\n",
       "Name: Survived, Length: 891, dtype: int64"
      ]
     },
     "execution_count": 23,
     "metadata": {},
     "output_type": "execute_result"
    }
   ],
   "source": [
    "y = train_data['Survived']\n",
    "y"
   ]
  },
  {
   "cell_type": "code",
   "execution_count": 24,
   "id": "fb942ebf",
   "metadata": {
    "execution": {
     "iopub.execute_input": "2024-10-31T05:10:54.707149Z",
     "iopub.status.busy": "2024-10-31T05:10:54.706334Z",
     "iopub.status.idle": "2024-10-31T05:10:54.715578Z",
     "shell.execute_reply": "2024-10-31T05:10:54.714587Z"
    },
    "papermill": {
     "duration": 0.025766,
     "end_time": "2024-10-31T05:10:54.717802",
     "exception": false,
     "start_time": "2024-10-31T05:10:54.692036",
     "status": "completed"
    },
    "tags": []
   },
   "outputs": [],
   "source": [
    "X_train, X_test, y_train, y_test = train_test_split(X,y, test_size=0.2, random_state=2)"
   ]
  },
  {
   "cell_type": "markdown",
   "id": "d03f6b25",
   "metadata": {
    "papermill": {
     "duration": 0.012743,
     "end_time": "2024-10-31T05:10:54.743859",
     "exception": false,
     "start_time": "2024-10-31T05:10:54.731116",
     "status": "completed"
    },
    "tags": []
   },
   "source": [
    "# Training the model"
   ]
  },
  {
   "cell_type": "code",
   "execution_count": 25,
   "id": "001a939d",
   "metadata": {
    "execution": {
     "iopub.execute_input": "2024-10-31T05:10:54.771305Z",
     "iopub.status.busy": "2024-10-31T05:10:54.770932Z",
     "iopub.status.idle": "2024-10-31T05:10:54.775603Z",
     "shell.execute_reply": "2024-10-31T05:10:54.774542Z"
    },
    "papermill": {
     "duration": 0.020872,
     "end_time": "2024-10-31T05:10:54.777735",
     "exception": false,
     "start_time": "2024-10-31T05:10:54.756863",
     "status": "completed"
    },
    "tags": []
   },
   "outputs": [],
   "source": [
    "model = LogisticRegression()"
   ]
  },
  {
   "cell_type": "code",
   "execution_count": 26,
   "id": "0cf2d061",
   "metadata": {
    "execution": {
     "iopub.execute_input": "2024-10-31T05:10:54.806055Z",
     "iopub.status.busy": "2024-10-31T05:10:54.805228Z",
     "iopub.status.idle": "2024-10-31T05:10:54.840944Z",
     "shell.execute_reply": "2024-10-31T05:10:54.839717Z"
    },
    "papermill": {
     "duration": 0.052466,
     "end_time": "2024-10-31T05:10:54.843335",
     "exception": false,
     "start_time": "2024-10-31T05:10:54.790869",
     "status": "completed"
    },
    "tags": []
   },
   "outputs": [
    {
     "data": {
      "text/html": [
       "<style>#sk-container-id-1 {color: black;background-color: white;}#sk-container-id-1 pre{padding: 0;}#sk-container-id-1 div.sk-toggleable {background-color: white;}#sk-container-id-1 label.sk-toggleable__label {cursor: pointer;display: block;width: 100%;margin-bottom: 0;padding: 0.3em;box-sizing: border-box;text-align: center;}#sk-container-id-1 label.sk-toggleable__label-arrow:before {content: \"▸\";float: left;margin-right: 0.25em;color: #696969;}#sk-container-id-1 label.sk-toggleable__label-arrow:hover:before {color: black;}#sk-container-id-1 div.sk-estimator:hover label.sk-toggleable__label-arrow:before {color: black;}#sk-container-id-1 div.sk-toggleable__content {max-height: 0;max-width: 0;overflow: hidden;text-align: left;background-color: #f0f8ff;}#sk-container-id-1 div.sk-toggleable__content pre {margin: 0.2em;color: black;border-radius: 0.25em;background-color: #f0f8ff;}#sk-container-id-1 input.sk-toggleable__control:checked~div.sk-toggleable__content {max-height: 200px;max-width: 100%;overflow: auto;}#sk-container-id-1 input.sk-toggleable__control:checked~label.sk-toggleable__label-arrow:before {content: \"▾\";}#sk-container-id-1 div.sk-estimator input.sk-toggleable__control:checked~label.sk-toggleable__label {background-color: #d4ebff;}#sk-container-id-1 div.sk-label input.sk-toggleable__control:checked~label.sk-toggleable__label {background-color: #d4ebff;}#sk-container-id-1 input.sk-hidden--visually {border: 0;clip: rect(1px 1px 1px 1px);clip: rect(1px, 1px, 1px, 1px);height: 1px;margin: -1px;overflow: hidden;padding: 0;position: absolute;width: 1px;}#sk-container-id-1 div.sk-estimator {font-family: monospace;background-color: #f0f8ff;border: 1px dotted black;border-radius: 0.25em;box-sizing: border-box;margin-bottom: 0.5em;}#sk-container-id-1 div.sk-estimator:hover {background-color: #d4ebff;}#sk-container-id-1 div.sk-parallel-item::after {content: \"\";width: 100%;border-bottom: 1px solid gray;flex-grow: 1;}#sk-container-id-1 div.sk-label:hover label.sk-toggleable__label {background-color: #d4ebff;}#sk-container-id-1 div.sk-serial::before {content: \"\";position: absolute;border-left: 1px solid gray;box-sizing: border-box;top: 0;bottom: 0;left: 50%;z-index: 0;}#sk-container-id-1 div.sk-serial {display: flex;flex-direction: column;align-items: center;background-color: white;padding-right: 0.2em;padding-left: 0.2em;position: relative;}#sk-container-id-1 div.sk-item {position: relative;z-index: 1;}#sk-container-id-1 div.sk-parallel {display: flex;align-items: stretch;justify-content: center;background-color: white;position: relative;}#sk-container-id-1 div.sk-item::before, #sk-container-id-1 div.sk-parallel-item::before {content: \"\";position: absolute;border-left: 1px solid gray;box-sizing: border-box;top: 0;bottom: 0;left: 50%;z-index: -1;}#sk-container-id-1 div.sk-parallel-item {display: flex;flex-direction: column;z-index: 1;position: relative;background-color: white;}#sk-container-id-1 div.sk-parallel-item:first-child::after {align-self: flex-end;width: 50%;}#sk-container-id-1 div.sk-parallel-item:last-child::after {align-self: flex-start;width: 50%;}#sk-container-id-1 div.sk-parallel-item:only-child::after {width: 0;}#sk-container-id-1 div.sk-dashed-wrapped {border: 1px dashed gray;margin: 0 0.4em 0.5em 0.4em;box-sizing: border-box;padding-bottom: 0.4em;background-color: white;}#sk-container-id-1 div.sk-label label {font-family: monospace;font-weight: bold;display: inline-block;line-height: 1.2em;}#sk-container-id-1 div.sk-label-container {text-align: center;}#sk-container-id-1 div.sk-container {/* jupyter's `normalize.less` sets `[hidden] { display: none; }` but bootstrap.min.css set `[hidden] { display: none !important; }` so we also need the `!important` here to be able to override the default hidden behavior on the sphinx rendered scikit-learn.org. See: https://github.com/scikit-learn/scikit-learn/issues/21755 */display: inline-block !important;position: relative;}#sk-container-id-1 div.sk-text-repr-fallback {display: none;}</style><div id=\"sk-container-id-1\" class=\"sk-top-container\"><div class=\"sk-text-repr-fallback\"><pre>LogisticRegression()</pre><b>In a Jupyter environment, please rerun this cell to show the HTML representation or trust the notebook. <br />On GitHub, the HTML representation is unable to render, please try loading this page with nbviewer.org.</b></div><div class=\"sk-container\" hidden><div class=\"sk-item\"><div class=\"sk-estimator sk-toggleable\"><input class=\"sk-toggleable__control sk-hidden--visually\" id=\"sk-estimator-id-1\" type=\"checkbox\" checked><label for=\"sk-estimator-id-1\" class=\"sk-toggleable__label sk-toggleable__label-arrow\">LogisticRegression</label><div class=\"sk-toggleable__content\"><pre>LogisticRegression()</pre></div></div></div></div></div>"
      ],
      "text/plain": [
       "LogisticRegression()"
      ]
     },
     "execution_count": 26,
     "metadata": {},
     "output_type": "execute_result"
    }
   ],
   "source": [
    "model.fit(X_train, y_train)"
   ]
  },
  {
   "cell_type": "markdown",
   "id": "e9399046",
   "metadata": {
    "papermill": {
     "duration": 0.013047,
     "end_time": "2024-10-31T05:10:54.870018",
     "exception": false,
     "start_time": "2024-10-31T05:10:54.856971",
     "status": "completed"
    },
    "tags": []
   },
   "source": [
    "# Evaluating the model"
   ]
  },
  {
   "cell_type": "code",
   "execution_count": 27,
   "id": "88bcf222",
   "metadata": {
    "execution": {
     "iopub.execute_input": "2024-10-31T05:10:54.898233Z",
     "iopub.status.busy": "2024-10-31T05:10:54.897825Z",
     "iopub.status.idle": "2024-10-31T05:10:54.906600Z",
     "shell.execute_reply": "2024-10-31T05:10:54.905640Z"
    },
    "papermill": {
     "duration": 0.025649,
     "end_time": "2024-10-31T05:10:54.908993",
     "exception": false,
     "start_time": "2024-10-31T05:10:54.883344",
     "status": "completed"
    },
    "tags": []
   },
   "outputs": [],
   "source": [
    "train_prediction = model.predict(X_train)\n",
    "test_prediction = model.predict(X_test)"
   ]
  },
  {
   "cell_type": "code",
   "execution_count": 28,
   "id": "8907e8ed",
   "metadata": {
    "execution": {
     "iopub.execute_input": "2024-10-31T05:10:54.938291Z",
     "iopub.status.busy": "2024-10-31T05:10:54.937142Z",
     "iopub.status.idle": "2024-10-31T05:10:54.944645Z",
     "shell.execute_reply": "2024-10-31T05:10:54.943615Z"
    },
    "papermill": {
     "duration": 0.024553,
     "end_time": "2024-10-31T05:10:54.947150",
     "exception": false,
     "start_time": "2024-10-31T05:10:54.922597",
     "status": "completed"
    },
    "tags": []
   },
   "outputs": [
    {
     "name": "stdout",
     "output_type": "stream",
     "text": [
      "[0 1 0 0 0 0 0 1 0 0 0 1 0 0 1 0 1 0 0 0 0 0 1 0 0 1 0 0 1 0 1 1 0 0 1 0 1\n",
      " 0 0 0 0 0 0 1 1 0 0 1 0 1 0 1 0 0 0 0 0 0 1 0 1 0 0 1 1 0 0 1 1 0 1 0 0 1\n",
      " 0 0 0 0 0 0 1 0 0 0 1 0 0 0 1 0 1 0 0 1 0 0 0 1 1 1 0 1 0 0 0 0 0 1 0 0 0\n",
      " 1 1 0 0 1 0 0 1 0 0 1 0 0 1 0 1 0 1 0 1 0 1 1 1 1 1 1 0 0 1 1 1 0 0 1 0 0\n",
      " 0 0 0 0 1 0 1 0 0 0 0 0 0 0 0 1 0 0 0 0 0 0 0 0 0 0 1 1 0 0 1 0 1 0 1 1 1\n",
      " 0 0 0 1 0 0 0 1 0 0 1 0 0 0 1 1 0 1 0 0 0 0 0 1 1 0 1 1 1 1 0 0 0 0 0 0 0\n",
      " 0 1 0 0 1 1 1 0 0 1 0 1 1 1 0 0 1 0 0 0 0 1 0 0 0 1 0 0 0 1 0 1 0 1 0 0 0\n",
      " 0 0 0 0 0 0 1 0 1 0 0 1 0 0 1 0 1 0 1 1 0 0 0 0 1 0 1 0 0 1 0 0 0 1 0 0 0\n",
      " 0 1 1 0 0 0 0 0 0 1 0 1 0 0 0 0 0 1 1 1 0 0 0 1 0 1 0 0 0 0 0 0 1 1 0 1 1\n",
      " 0 1 1 1 0 0 0 0 0 0 0 0 0 1 0 0 1 1 1 0 1 0 0 0 0 1 1 0 0 0 1 0 1 1 1 0 0\n",
      " 0 0 1 0 0 0 1 1 0 0 1 0 0 0 0 1 0 0 0 0 0 1 0 0 0 0 1 0 1 1 1 0 1 1 0 0 0\n",
      " 0 1 0 1 0 0 1 1 0 0 0 0 1 0 0 0 0 1 1 0 1 0 1 0 0 0 0 0 1 0 0 0 0 1 1 0 0\n",
      " 1 0 1 0 0 1 0 0 0 0 0 0 0 0 1 0 0 1 1 0 0 0 1 1 0 1 0 0 1 0 0 0 1 1 0 1 0\n",
      " 0 0 0 0 1 0 0 1 0 1 1 0 0 1 0 0 1 0 0 0 1 0 1 1 0 0 1 1 0 1 0 1 1 1 0 1 0\n",
      " 0 1 0 0 1 0 0 1 0 0 0 0 1 1 0 0 1 0 1 0 0 0 0 0 0 1 1 1 0 0 1 1 0 0 0 0 0\n",
      " 0 0 0 0 0 0 0 0 0 0 0 0 1 0 0 0 1 1 0 0 0 0 0 0 0 0 0 0 0 0 1 0 1 0 0 0 0\n",
      " 0 0 1 0 0 0 0 0 1 0 1 0 1 0 0 0 1 0 1 1 1 0 0 0 1 0 1 0 0 0 1 1 1 0 0 1 1\n",
      " 0 0 0 1 0 1 0 0 0 0 0 1 1 0 1 1 1 0 0 0 1 0 0 0 0 1 0 0 0 1 0 0 1 0 0 0 0\n",
      " 1 0 0 1 0 1 0 0 0 1 1 1 1 1 0 0 1 1 0 1 1 1 1 0 0 0 1 1 0 0 1 0 0 0 0 0 0\n",
      " 0 0 0 1 1 0 0 1 0]\n"
     ]
    }
   ],
   "source": [
    "print(train_prediction)"
   ]
  },
  {
   "cell_type": "code",
   "execution_count": 29,
   "id": "dc586a44",
   "metadata": {
    "execution": {
     "iopub.execute_input": "2024-10-31T05:10:54.976084Z",
     "iopub.status.busy": "2024-10-31T05:10:54.975639Z",
     "iopub.status.idle": "2024-10-31T05:10:54.981361Z",
     "shell.execute_reply": "2024-10-31T05:10:54.980412Z"
    },
    "papermill": {
     "duration": 0.022874,
     "end_time": "2024-10-31T05:10:54.983785",
     "exception": false,
     "start_time": "2024-10-31T05:10:54.960911",
     "status": "completed"
    },
    "tags": []
   },
   "outputs": [
    {
     "name": "stdout",
     "output_type": "stream",
     "text": [
      "[0 0 1 0 0 0 0 0 0 0 0 1 1 0 0 1 0 0 1 0 1 1 0 1 0 1 1 0 0 0 0 0 0 0 0 1 1\n",
      " 0 0 0 0 0 1 0 0 1 1 0 0 1 0 0 0 0 0 0 1 0 0 0 1 0 0 0 1 0 1 0 0 0 1 0 1 0\n",
      " 1 0 0 0 1 0 1 0 0 0 1 1 0 0 1 0 0 0 0 0 0 1 0 1 0 0 1 0 1 1 0 1 1 0 0 0 0\n",
      " 0 0 0 1 1 0 1 0 0 1 0 0 0 0 0 0 1 0 0 0 0 1 1 0 0 0 0 0 0 1 1 1 1 0 1 0 0\n",
      " 0 1 0 0 0 0 1 0 0 1 1 0 1 0 0 0 1 1 0 0 1 0 0 1 1 1 0 0 0 0 0]\n"
     ]
    }
   ],
   "source": [
    "print(test_prediction)"
   ]
  },
  {
   "cell_type": "markdown",
   "id": "f2a83337",
   "metadata": {
    "papermill": {
     "duration": 0.013379,
     "end_time": "2024-10-31T05:10:55.010817",
     "exception": false,
     "start_time": "2024-10-31T05:10:54.997438",
     "status": "completed"
    },
    "tags": []
   },
   "source": [
    "# Accuracy Score"
   ]
  },
  {
   "cell_type": "code",
   "execution_count": 30,
   "id": "440556a4",
   "metadata": {
    "execution": {
     "iopub.execute_input": "2024-10-31T05:10:55.039948Z",
     "iopub.status.busy": "2024-10-31T05:10:55.039302Z",
     "iopub.status.idle": "2024-10-31T05:10:55.046602Z",
     "shell.execute_reply": "2024-10-31T05:10:55.045513Z"
    },
    "papermill": {
     "duration": 0.024245,
     "end_time": "2024-10-31T05:10:55.048779",
     "exception": false,
     "start_time": "2024-10-31T05:10:55.024534",
     "status": "completed"
    },
    "tags": []
   },
   "outputs": [
    {
     "name": "stdout",
     "output_type": "stream",
     "text": [
      "Accuracy score of training data --->  0.8075842696629213\n"
     ]
    }
   ],
   "source": [
    "# accuracy score for training dataset\n",
    "training_accuracy = accuracy_score(y_train, train_prediction)\n",
    "print('Accuracy score of training data ---> ', training_accuracy)"
   ]
  },
  {
   "cell_type": "code",
   "execution_count": 31,
   "id": "2b43524f",
   "metadata": {
    "execution": {
     "iopub.execute_input": "2024-10-31T05:10:55.078159Z",
     "iopub.status.busy": "2024-10-31T05:10:55.077765Z",
     "iopub.status.idle": "2024-10-31T05:10:55.084874Z",
     "shell.execute_reply": "2024-10-31T05:10:55.083761Z"
    },
    "papermill": {
     "duration": 0.024793,
     "end_time": "2024-10-31T05:10:55.087321",
     "exception": false,
     "start_time": "2024-10-31T05:10:55.062528",
     "status": "completed"
    },
    "tags": []
   },
   "outputs": [
    {
     "name": "stdout",
     "output_type": "stream",
     "text": [
      "Accuracy score of testing data --->  0.7821229050279329\n"
     ]
    }
   ],
   "source": [
    "# accurcy score for test dataset\n",
    "testing_accuracy = accuracy_score(y_test, test_prediction)\n",
    "print('Accuracy score of testing data ---> ', testing_accuracy)"
   ]
  }
 ],
 "metadata": {
  "kaggle": {
   "accelerator": "none",
   "dataSources": [
    {
     "databundleVersionId": 26502,
     "sourceId": 3136,
     "sourceType": "competition"
    }
   ],
   "dockerImageVersionId": 30786,
   "isGpuEnabled": false,
   "isInternetEnabled": false,
   "language": "python",
   "sourceType": "notebook"
  },
  "kernelspec": {
   "display_name": "Python 3",
   "language": "python",
   "name": "python3"
  },
  "language_info": {
   "codemirror_mode": {
    "name": "ipython",
    "version": 3
   },
   "file_extension": ".py",
   "mimetype": "text/x-python",
   "name": "python",
   "nbconvert_exporter": "python",
   "pygments_lexer": "ipython3",
   "version": "3.10.14"
  },
  "papermill": {
   "default_parameters": {},
   "duration": 8.845683,
   "end_time": "2024-10-31T05:10:55.722038",
   "environment_variables": {},
   "exception": null,
   "input_path": "__notebook__.ipynb",
   "output_path": "__notebook__.ipynb",
   "parameters": {},
   "start_time": "2024-10-31T05:10:46.876355",
   "version": "2.6.0"
  }
 },
 "nbformat": 4,
 "nbformat_minor": 5
}
